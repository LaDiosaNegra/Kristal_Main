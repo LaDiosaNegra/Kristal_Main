{
  "nbformat": 4,
  "nbformat_minor": 0,
  "metadata": {
    "colab": {
      "provenance": [],
      "authorship_tag": "ABX9TyM+Wz70NxeoG6+/AQIlVCPs",
      "include_colab_link": true
    },
    "kernelspec": {
      "name": "python3",
      "display_name": "Python 3"
    },
    "language_info": {
      "name": "python"
    }
  },
  "cells": [
    {
      "cell_type": "markdown",
      "metadata": {
        "id": "view-in-github",
        "colab_type": "text"
      },
      "source": [
        "<a href=\"https://colab.research.google.com/github/LaDiosaNegra/Kristal_SiliconAccra/blob/main/ShoppingCart.ipynb\" target=\"_parent\"><img src=\"https://colab.research.google.com/assets/colab-badge.svg\" alt=\"Open In Colab\"/></a>"
      ]
    },
    {
      "cell_type": "code",
      "execution_count": null,
      "metadata": {
        "colab": {
          "base_uri": "https://localhost:8080/"
        },
        "id": "LmPEmdYhMj9T",
        "outputId": "d2834779-b6b3-428e-b425-5714050a7343"
      },
      "outputs": [
        {
          "output_type": "stream",
          "name": "stdout",
          "text": [
            "Please enter your name: kzuc\n",
            "***********************************\n",
            "Welcome to The Goddess Chamber Kzuc\n",
            "***********************************\n"
          ]
        }
      ],
      "source": [
        "# Welcome the user\n",
        "\n",
        "userName = input(\"Please enter your name: \")\n",
        "welcomeMessage = (f\"Welcome to The Goddess Chamber {userName.capitalize()}\")\n",
        "lenWelcMSG = len(welcomeMessage)\n",
        "print(\"*\"*lenWelcMSG)\n",
        "print(welcomeMessage)\n",
        "print(\"*\"*lenWelcMSG)\n",
        "\n",
        "\n",
        "\n",
        "items = [] #empty list of items\n",
        "prices = [] #empty list of prices\n",
        "total = 0\n",
        "\n",
        "#User will input desired item\n",
        "while True:\n",
        "  #Set the condition to exit the loop\n",
        "  item = input(\"Enter an item to buy (q to quit): \")\n",
        "  if item.lower() == \"q\":\n",
        "      break\n",
        "\n",
        "  else:\n",
        "      price = float(input(f\"Which item would you like to buy?: \"))\n",
        "      items.append(item)\n",
        "      prices.append(price)\n",
        "      print(f\"{item.capitalize()} has been added to the cart!\")\n",
        "\n",
        "\n",
        "print(\"Welcome to your Goddess Chamber Shopping Cart!\")\n",
        "\n",
        "\n",
        "for item in items:\n",
        "  print(item)\n",
        "\n",
        "for price in prices:\n",
        "    total = total + price\n",
        "\n",
        "print(f\"Your total is : {total} GHC \")\n",
        "#Goodbye message\n",
        "print(f\"Thanks for shopping with The Goddess Chamber GH!\")\n",
        "\n",
        "\n",
        "\n"
      ]
    }
  ]
}