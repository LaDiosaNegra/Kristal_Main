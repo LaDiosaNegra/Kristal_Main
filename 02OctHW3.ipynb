{
  "nbformat": 4,
  "nbformat_minor": 0,
  "metadata": {
    "colab": {
      "provenance": [],
      "authorship_tag": "ABX9TyNLO09c8Bc3t0A+xP/fYQQC",
      "include_colab_link": true
    },
    "kernelspec": {
      "name": "python3",
      "display_name": "Python 3"
    },
    "language_info": {
      "name": "python"
    }
  },
  "cells": [
    {
      "cell_type": "markdown",
      "metadata": {
        "id": "view-in-github",
        "colab_type": "text"
      },
      "source": [
        "<a href=\"https://colab.research.google.com/github/LaDiosaNegra/Kristal_SiliconAccra/blob/main/02OctHW3.ipynb\" target=\"_parent\"><img src=\"https://colab.research.google.com/assets/colab-badge.svg\" alt=\"Open In Colab\"/></a>"
      ]
    },
    {
      "cell_type": "code",
      "execution_count": 2,
      "metadata": {
        "colab": {
          "base_uri": "https://localhost:8080/"
        },
        "id": "bJS05846tvzS",
        "outputId": "ab74a82d-6b30-4620-f9af-2f8e321f3109"
      },
      "outputs": [
        {
          "output_type": "stream",
          "name": "stdout",
          "text": [
            " Your red lipstick is 105 for today only\n",
            " Your pink eyeshadow is 75 for today only\n",
            " Your medium brown foundation is 275 for today only\n"
          ]
        }
      ],
      "source": [
        "product = (\"lipstick\", \"eyeshadow\", \"foundation\")\n",
        "color = (\"red\", \"pink\", \"medium brown\")\n",
        "price = [105, 75, 275]\n",
        "quantity = [99, 23, 67 ]\n",
        "\n",
        "for p, c, pr, q in zip(product, color, price, quantity):\n",
        "  if q > 0:\n",
        "    print(f\" Your {c} {p} is {pr} for today only\")\n",
        "\n",
        "  else:\n",
        "    print(f\"not available\")\n",
        "\n"
      ]
    }
  ]
}