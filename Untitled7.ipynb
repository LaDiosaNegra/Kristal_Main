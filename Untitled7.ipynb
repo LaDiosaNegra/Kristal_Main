{
  "nbformat": 4,
  "nbformat_minor": 0,
  "metadata": {
    "colab": {
      "provenance": [],
      "authorship_tag": "ABX9TyOeTLUGscnw5HwvpQC8jmFJ",
      "include_colab_link": true
    },
    "kernelspec": {
      "name": "python3",
      "display_name": "Python 3"
    },
    "language_info": {
      "name": "python"
    }
  },
  "cells": [
    {
      "cell_type": "markdown",
      "metadata": {
        "id": "view-in-github",
        "colab_type": "text"
      },
      "source": [
        "<a href=\"https://colab.research.google.com/github/LaDiosaNegra/Kristal_SiliconAccra/blob/main/Untitled7.ipynb\" target=\"_parent\"><img src=\"https://colab.research.google.com/assets/colab-badge.svg\" alt=\"Open In Colab\"/></a>"
      ]
    },
    {
      "cell_type": "code",
      "source": [],
      "metadata": {
        "id": "VmdHyIj9d-GH"
      },
      "execution_count": null,
      "outputs": []
    },
    {
      "cell_type": "code",
      "execution_count": null,
      "metadata": {
        "id": "fSnQVv1lf8MD"
      },
      "outputs": [],
      "source": [
        "\n",
        "inventory = [\n",
        "        {\n",
        "                    \"product\" : \"lipstick\" ,\n",
        "                    \"name\" : \"Rudeness\" ,\n",
        "                    \"price\" : \"110 ghc\" ,\n",
        "                    \"in_stock\" : True\n",
        "        },\n",
        "\n",
        "        {           \"product\" : \"eyeshadow\" ,\n",
        "                    \"name\" : \"Pink Friday\" ,\n",
        "                    \"price\" : \"75 ghc\" ,\n",
        "                    \"in_stock\" : True\n",
        "        },\n",
        "\n",
        "        {           \"product\" : \"foundation\",\n",
        "                    \"name\" :\"Gingerbread\" ,\n",
        "                    \"price\" : \"250 ghc\" ,\n",
        "                    \"in_stock\" : True\n",
        "        },\n",
        "\n",
        "        {           \"product\" : \"blush\" ,\n",
        "                    \"name\" : \"Sangria\" ,\n",
        "                    \"price\" : \"75 ghc\" ,\n",
        "                    \"in_stock\" : True\n",
        "        }\n",
        "]\n",
        "\n",
        "\n",
        "product = input (\" Enter product to get price \")\n",
        "\n",
        "product = (\" \")\n",
        "\n",
        "name =\n",
        "\n",
        "else:\n",
        "  print(\"out of stock\")\n",
        "\n",
        "\n",
        "\n",
        "\n",
        "\n"
      ]
    }
  ]
}