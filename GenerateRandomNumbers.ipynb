{
  "nbformat": 4,
  "nbformat_minor": 0,
  "metadata": {
    "colab": {
      "provenance": [],
      "authorship_tag": "ABX9TyO1AsO+mSWAdhdBd/buNufr",
      "include_colab_link": true
    },
    "kernelspec": {
      "name": "python3",
      "display_name": "Python 3"
    },
    "language_info": {
      "name": "python"
    }
  },
  "cells": [
    {
      "cell_type": "markdown",
      "metadata": {
        "id": "view-in-github",
        "colab_type": "text"
      },
      "source": [
        "<a href=\"https://colab.research.google.com/github/LaDiosaNegra/Kristal_SiliconAccra/blob/main/GenerateRandomNumbers.ipynb\" target=\"_parent\"><img src=\"https://colab.research.google.com/assets/colab-badge.svg\" alt=\"Open In Colab\"/></a>"
      ]
    },
    {
      "cell_type": "code",
      "execution_count": 23,
      "metadata": {
        "colab": {
          "base_uri": "https://localhost:8080/"
        },
        "id": "IP8Ryz2KGX4t",
        "outputId": "066caed9-9d49-4f04-82b6-46ee018a8d85"
      },
      "outputs": [
        {
          "output_type": "stream",
          "name": "stdout",
          "text": [
            "['Q', '8', 'K', '10', '5', 'A', '2', '4', '3', '9', '7', 'J', '6']\n"
          ]
        }
      ],
      "source": [
        "import random\n",
        "\n",
        "#print(help(random))\n",
        "\n",
        "\n",
        "low = 1\n",
        "high = 100\n",
        "options = (\"rock\", \"paper\", \"scissors\")\n",
        "cards = [\"2\", \"3\", \"4\", \"5\", \"6\", \"7\", \"8\", \"9\", \"10\", \"J\", \"Q\", \"K\" , \"A\"]\n",
        "\n",
        "\n",
        "#number = random.randint(low, high)\n",
        "#number = random.random()\n",
        "#option = random.choice(options)\n",
        "random.shuffle(cards)\n",
        "\n",
        "\n",
        "\n",
        "#choice method is a great use for games if you need a random element\n",
        "\n",
        "print(cards)\n"
      ]
    },
    {
      "cell_type": "code",
      "source": [
        "import random\n",
        "\n",
        "low = 1\n",
        "high = 100\n",
        "guesses = 0\n",
        "number = random.randint(low, high)\n",
        "\n",
        "\n",
        "while True:\n",
        "    guess = int(input(f\"Enter a number between ({low} - {high}): \"))\n",
        "    guesses += 1\n",
        "\n",
        "    if guess < number:\n",
        "        print(f\"{guess} is too low\")\n",
        "\n",
        "    elif guess > number:\n",
        "        print(f\"{guess} is too high\")\n",
        "    else:\n",
        "        print(f\"{guess} is correct!\")\n",
        "        break\n",
        "\n",
        "print(f\"This round took you {guesses} guesses\")"
      ],
      "metadata": {
        "colab": {
          "base_uri": "https://localhost:8080/"
        },
        "id": "EG-mPvDdKM81",
        "outputId": "c31c0d56-341e-4592-caa3-d537ad9bef2a"
      },
      "execution_count": 24,
      "outputs": [
        {
          "output_type": "stream",
          "name": "stdout",
          "text": [
            "Enter a number between (1 - 100): 58\n",
            "58 is too low\n",
            "Enter a number between (1 - 100): 87\n",
            "87 is too low\n",
            "Enter a number between (1 - 100): 99\n",
            "99 is too high\n",
            "Enter a number between (1 - 100): 91\n",
            "91 is too low\n",
            "Enter a number between (1 - 100): 95\n",
            "95 is too low\n",
            "Enter a number between (1 - 100): 98\n",
            "98 is correct!\n",
            "This round took you 6 guesses\n"
          ]
        }
      ]
    }
  ]
}