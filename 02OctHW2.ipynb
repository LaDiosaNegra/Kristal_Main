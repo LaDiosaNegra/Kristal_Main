{
  "nbformat": 4,
  "nbformat_minor": 0,
  "metadata": {
    "colab": {
      "provenance": [],
      "authorship_tag": "ABX9TyO6t8ncemE2kie8NldvJvqj",
      "include_colab_link": true
    },
    "kernelspec": {
      "name": "python3",
      "display_name": "Python 3"
    },
    "language_info": {
      "name": "python"
    }
  },
  "cells": [
    {
      "cell_type": "markdown",
      "metadata": {
        "id": "view-in-github",
        "colab_type": "text"
      },
      "source": [
        "<a href=\"https://colab.research.google.com/github/LaDiosaNegra/Kristal_SiliconAccra/blob/main/02OctHW2.ipynb\" target=\"_parent\"><img src=\"https://colab.research.google.com/assets/colab-badge.svg\" alt=\"Open In Colab\"/></a>"
      ]
    },
    {
      "cell_type": "code",
      "execution_count": null,
      "metadata": {
        "id": "PFT9vLgImtzV"
      },
      "outputs": [],
      "source": []
    },
    {
      "cell_type": "code",
      "execution_count": 17,
      "metadata": {
        "id": "fSnQVv1lf8MD",
        "colab": {
          "base_uri": "https://localhost:8080/",
          "height": 246
        },
        "outputId": "53c4101d-51a0-451e-e9f0-8161bbee9f7f"
      },
      "outputs": [
        {
          "output_type": "error",
          "ename": "NameError",
          "evalue": "ignored",
          "traceback": [
            "\u001b[0;31m---------------------------------------------------------------------------\u001b[0m",
            "\u001b[0;31mNameError\u001b[0m                                 Traceback (most recent call last)",
            "\u001b[0;32m<ipython-input-17-5185cbc00504>\u001b[0m in \u001b[0;36m<cell line: 3>\u001b[0;34m()\u001b[0m\n\u001b[1;32m      1\u001b[0m inventory = [\n\u001b[1;32m      2\u001b[0m \u001b[0;34m\u001b[0m\u001b[0m\n\u001b[0;32m----> 3\u001b[0;31m lipstick == {       \"name\" : \"Boyfriend Snatcher\" ,\n\u001b[0m\u001b[1;32m      4\u001b[0m                     \u001b[0;34m\"color\"\u001b[0m \u001b[0;34m:\u001b[0m \u001b[0;34m\"Red\"\u001b[0m \u001b[0;34m,\u001b[0m\u001b[0;34m\u001b[0m\u001b[0;34m\u001b[0m\u001b[0m\n\u001b[1;32m      5\u001b[0m                     \u001b[0;34m\"price\"\u001b[0m \u001b[0;34m:\u001b[0m \u001b[0;34m\"110 ghc\"\u001b[0m \u001b[0;34m,\u001b[0m\u001b[0;34m\u001b[0m\u001b[0;34m\u001b[0m\u001b[0m\n",
            "\u001b[0;31mNameError\u001b[0m: name 'lipstick' is not defined"
          ]
        }
      ],
      "source": [
        "inventory = [\n",
        "\n",
        "lipstick ==   {       \"name\" : \"Boyfriend Snatcher\" ,\n",
        "                      \"color\" : \"Red\" ,\n",
        "                      \"price\" : \"110 ghc\" ,\n",
        "                      \"in_stock\" : True\n",
        "\n",
        "              },\n",
        "\n",
        "eyeshadow ==  {       \"name\" : \"Pink Friday\" ,\n",
        "                    \"color\" : \"Pink\",\n",
        "                    \"price\" : \"75 ghc\" ,\n",
        "                    \"in_stock\" : True\n",
        "              },\n",
        "\n",
        "foundation == {      \"name\" :\"Gingerbread\" ,\n",
        "                    \"color\" :  \"medium brown\",\n",
        "                    \"price\" : \"250 ghc\" ,\n",
        "                    \"in_stock\" : True\n",
        "              },\n",
        "\n",
        "blush ==      {           \"name\" : \"Sangria\" ,\n",
        "                          \"color\" : \"burgundy\",\n",
        "                          \"price\" : \"75 ghc\" ,\n",
        "                          \"in_stock\" : False\n",
        "              }\n",
        "\n",
        "]\n",
        "\n",
        "\n",
        "inventory = input(\"Enter product desired:\")\n",
        "\n",
        "\n",
        "if inventory == \"Boyfriend Snatcher\":\n",
        "  print(\" You can buy it for {price}\")\n",
        "\n",
        "elif inventory  == \"Gingerbread\":\n",
        "  print(\"You can buy it for {price}\")\n",
        "\n",
        "elif inventory  == \"Sangria\":\n",
        "  print(\"You can buy it for {price}\")\n",
        "\n",
        "else:\n",
        "  print(\"not found\")\n",
        "\n",
        "\n",
        "\n",
        "\n",
        "\n",
        "\n",
        "\n",
        "\n",
        "\n",
        "\n",
        "\n",
        "\n",
        "\n",
        "\n",
        "\n",
        "\n",
        "\n",
        "\n",
        "\n",
        "\n",
        "\n",
        "\n",
        "\n",
        "\n",
        "\n",
        "\n",
        "\n",
        "\n",
        "\n",
        "\n",
        "\n",
        "\n",
        "\n",
        "\n",
        "\n"
      ]
    }
  ]
}