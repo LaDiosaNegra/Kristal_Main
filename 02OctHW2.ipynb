{
  "nbformat": 4,
  "nbformat_minor": 0,
  "metadata": {
    "colab": {
      "provenance": [],
      "authorship_tag": "ABX9TyPH5zGIsVtmnnbq7Icbllat",
      "include_colab_link": true
    },
    "kernelspec": {
      "name": "python3",
      "display_name": "Python 3"
    },
    "language_info": {
      "name": "python"
    }
  },
  "cells": [
    {
      "cell_type": "markdown",
      "metadata": {
        "id": "view-in-github",
        "colab_type": "text"
      },
      "source": [
        "<a href=\"https://colab.research.google.com/github/LaDiosaNegra/Kristal_SiliconAccra/blob/main/02OctHW2.ipynb\" target=\"_parent\"><img src=\"https://colab.research.google.com/assets/colab-badge.svg\" alt=\"Open In Colab\"/></a>"
      ]
    },
    {
      "cell_type": "code",
      "execution_count": null,
      "metadata": {
        "id": "PFT9vLgImtzV"
      },
      "outputs": [],
      "source": []
    },
    {
      "cell_type": "code",
      "execution_count": 3,
      "metadata": {
        "id": "fSnQVv1lf8MD",
        "colab": {
          "base_uri": "https://localhost:8080/",
          "height": 140
        },
        "outputId": "55cd41cc-ebd5-4944-cd52-43b2f4ff7d08"
      },
      "outputs": [
        {
          "output_type": "error",
          "ename": "SyntaxError",
          "evalue": "ignored",
          "traceback": [
            "\u001b[0;36m  File \u001b[0;32m\"<ipython-input-3-cb11e1e8a444>\"\u001b[0;36m, line \u001b[0;32m73\u001b[0m\n\u001b[0;31m    print(f\"Your {l} and )\u001b[0m\n\u001b[0m          ^\u001b[0m\n\u001b[0;31mSyntaxError\u001b[0m\u001b[0;31m:\u001b[0m unterminated string literal (detected at line 73)\n"
          ]
        }
      ],
      "source": [
        "inventory = [\n",
        "\n",
        "lipstick = {\n",
        "\n",
        "                    \"name\" : \"Boyfriend Snatcher\" ,\n",
        "                    \"color\" : \"Red\",\n",
        "                    \"price\" : \"110 ghc\" ,\n",
        "                    \"in_stock\" : True\n",
        "\n",
        "          },\n",
        "\n",
        "eyeshadow = {       \"name\" : \"Pink Friday\" ,\n",
        "                    \"color\" : \"Pink\",\n",
        "                    \"price\" : \"75 ghc\" ,\n",
        "                    \"in_stock\" : True\n",
        "           },\n",
        "\n",
        "foundation = {      \"name\" :\"Gingerbread\" ,\n",
        "                    \"color\" :  \"medium brown\",\n",
        "                    \"price\" : \"250 ghc\" ,\n",
        "                    \"in_stock\" : True\n",
        "           },\n",
        "\n",
        "blush = {           \"name\" : \"Sangria\" ,\n",
        "                    \"color\" : \"burgundy\",\n",
        "                    \"price\" : \"75 ghc\" ,\n",
        "                     \"in_stock\" : False\n",
        "        }\n",
        "\n",
        "]\n",
        "\n",
        "\n",
        "inventory = input(\"Enter product desired\"):\n",
        "\n",
        "\n",
        "if inventory == \"Boyfriend Snatcher\":\n",
        "  print(\" You can buy it for {price}\")\n",
        "\n",
        "elif inventory  == \"Gingerbread\":\n",
        "  print(\"You can buy it for {price}\")\n",
        "\n",
        "elif inventory  == \"Sangria\":\n",
        "  print(\"You can buy it for {price}\")\n",
        "\n",
        "else:\n",
        "  print(\"not found\")\n",
        "\n",
        "\n",
        "\n",
        "\n",
        "\n",
        "\n",
        "\n",
        "\n",
        "\n",
        "\n",
        "\n",
        "\n",
        "\n",
        "\n",
        "\n",
        "\n",
        "\n",
        "\n",
        "\n",
        "\n",
        "\n",
        "\n",
        "\n",
        "for l, e, f, s in inventory(lipstick, eyeshadow, foundation, blush):\n",
        "\n",
        "   if l, e, f, s == True\n",
        "     print(f\"Your {l} and )\n",
        "\n",
        "\n",
        "\n",
        "\n",
        "\n",
        "\n",
        "\n",
        "\n",
        "\n",
        "\n",
        "\n",
        "\n",
        "\n",
        "\n",
        "\n"
      ]
    }
  ]
}